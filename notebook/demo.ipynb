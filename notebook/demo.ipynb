{
 "cells": [
  {
   "cell_type": "code",
   "execution_count": 1,
   "metadata": {
    "collapsed": false
   },
   "outputs": [
    {
     "data": {
      "text/plain": [
       "base_node_software_version                                                     \n",
       "package_name                                                         multispeq1\n",
       "display_name                                                         multispeq1\n",
       "manufacturer                                                        Wheeler Lab\n",
       "url                           http://github.com/wheeler-microfluidics/multis...\n",
       "software_version                                                      0.1.post2\n",
       "dtype: object"
      ]
     },
     "execution_count": 1,
     "metadata": {},
     "output_type": "execute_result"
    }
   ],
   "source": [
    "from multispeq1 import SerialProxy\n",
    "import time\n",
    "\n",
    "# try to delete any existing proxy object (if it exists)\n",
    "# to free up the serial port\n",
    "try:\n",
    "    del proxy\n",
    "except:\n",
    "    pass\n",
    "\n",
    "# create a new MultisynQ proxy\n",
    "proxy = SerialProxy()\n",
    "\n",
    "# probe the device properties\n",
    "proxy.properties"
   ]
  },
  {
   "cell_type": "code",
   "execution_count": 6,
   "metadata": {
    "collapsed": false
   },
   "outputs": [
    {
     "name": "stdout",
     "output_type": "stream",
     "text": [
      "100 loops, best of 3: 6 ms per loop\n"
     ]
    }
   ],
   "source": [
    "# now you have a proxy object which exposes a lot of the basic \n",
    "# Arduino API\n",
    "\n",
    "# e.g., set pin 13 as an output\n",
    "proxy.pin_mode(13, 1)\n",
    "\n",
    "# blink an LED 10 times\n",
    "for i in range(10):\n",
    "    proxy.digital_write(13, 1)\n",
    "    time.sleep(1)\n",
    "    proxy.digital_write(13, 0)\n",
    "    time.sleep(1)"
   ]
  },
  {
   "cell_type": "code",
   "execution_count": 7,
   "metadata": {
    "collapsed": false
   },
   "outputs": [
    {
     "name": "stdout",
     "output_type": "stream",
     "text": [
      "100 loops, best of 3: 6 ms per loop\n"
     ]
    }
   ],
   "source": [
    "%timeit proxy.digital_read(13)"
   ]
  },
  {
   "cell_type": "code",
   "execution_count": null,
   "metadata": {
    "collapsed": true
   },
   "outputs": [],
   "source": []
  }
 ],
 "metadata": {
  "anaconda-cloud": {},
  "kernelspec": {
   "display_name": "Python [default]",
   "language": "python",
   "name": "python2"
  },
  "language_info": {
   "codemirror_mode": {
    "name": "ipython",
    "version": 2
   },
   "file_extension": ".py",
   "mimetype": "text/x-python",
   "name": "python",
   "nbconvert_exporter": "python",
   "pygments_lexer": "ipython2",
   "version": "2.7.12"
  }
 },
 "nbformat": 4,
 "nbformat_minor": 2
}
