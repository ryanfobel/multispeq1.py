{
 "cells": [
  {
   "cell_type": "code",
   "execution_count": 7,
   "metadata": {
    "collapsed": false
   },
   "outputs": [
    {
     "data": {
      "text/plain": [
       "base_node_software_version                                                     \n",
       "package_name                                                         multispeq1\n",
       "display_name                                                         multispeq1\n",
       "manufacturer                                                        Wheeler Lab\n",
       "url                           http://github.com/wheeler-microfluidics/multis...\n",
       "software_version                                         0.1.post2.dev166229502\n",
       "dtype: object"
      ]
     },
     "execution_count": 7,
     "metadata": {},
     "output_type": "execute_result"
    }
   ],
   "source": [
    "from multispeq1 import SerialProxy\n",
    "\n",
    "# try to delete any existing proxy object (if it exists)\n",
    "# to free up the serial port\n",
    "try:\n",
    "    del proxy\n",
    "except:\n",
    "    pass\n",
    "\n",
    "# create a new MultisynQ proxy\n",
    "proxy = SerialProxy()\n",
    "\n",
    "# probe the device properties\n",
    "proxy.properties"
   ]
  },
  {
   "cell_type": "code",
   "execution_count": 9,
   "metadata": {
    "collapsed": false
   },
   "outputs": [
    {
     "data": {
      "text/plain": [
       "'http://github.com/wheeler-microfluidics/multispeq1.git'"
      ]
     },
     "execution_count": 9,
     "metadata": {},
     "output_type": "execute_result"
    }
   ],
   "source": [
    "\n",
    "\n",
    "# set pin 13 as an output\n",
    "proxy.pin_mode(13, 1)\n",
    "\n",
    "for i in range(10):\n",
    "    proxy.digital_write(13, 0)\n",
    "    proxy.digital_write(13, 1)"
   ]
  },
  {
   "cell_type": "code",
   "execution_count": null,
   "metadata": {
    "collapsed": true
   },
   "outputs": [],
   "source": []
  }
 ],
 "metadata": {
  "kernelspec": {
   "display_name": "Python 2",
   "language": "python",
   "name": "python2"
  },
  "language_info": {
   "codemirror_mode": {
    "name": "ipython",
    "version": 2
   },
   "file_extension": ".py",
   "mimetype": "text/x-python",
   "name": "python",
   "nbconvert_exporter": "python",
   "pygments_lexer": "ipython2",
   "version": "2.7.12"
  }
 },
 "nbformat": 4,
 "nbformat_minor": 2
}
